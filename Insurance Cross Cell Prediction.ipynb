{
 "cells": [
  {
   "cell_type": "code",
   "execution_count": 1,
   "metadata": {},
   "outputs": [],
   "source": [
    "#A health insurance company is looking for an opportunity to offer vehicle insurance to its customers\n",
    "#We are going to predict whether customers of the company will be also interested in vehicle insurance\n",
    "#Import all the necessary packages\n",
    "import pandas as pd\n",
    "import numpy as np\n",
    "import matplotlib.pyplot as plt\n",
    "import seaborn as sns\n",
    "from sklearn.preprocessing import LabelEncoder\n",
    "from sklearn.preprocessing import StandardScaler\n",
    "from sklearn.naive_bayes import GaussianNB\n",
    "from sklearn.neighbors import KNeighborsClassifier\n",
    "from sklearn.linear_model import LogisticRegression\n",
    "from sklearn.tree import DecisionTreeClassifier\n",
    "from sklearn.ensemble import RandomForestClassifier, GradientBoostingClassifier\n",
    "from sklearn.model_selection import train_test_split, GridSearchCV\n",
    "from sklearn.metrics import accuracy_score, confusion_matrix, roc_curve, roc_auc_score"
   ]
  },
  {
   "cell_type": "code",
   "execution_count": 2,
   "metadata": {},
   "outputs": [
    {
     "name": "stdout",
     "output_type": "stream",
     "text": [
      "(381109, 12)\n",
      "<class 'pandas.core.frame.DataFrame'>\n",
      "RangeIndex: 381109 entries, 0 to 381108\n",
      "Data columns (total 12 columns):\n",
      " #   Column                Non-Null Count   Dtype  \n",
      "---  ------                --------------   -----  \n",
      " 0   id                    381109 non-null  int64  \n",
      " 1   Gender                381109 non-null  object \n",
      " 2   Age                   381109 non-null  int64  \n",
      " 3   Driving_License       381109 non-null  int64  \n",
      " 4   Region_Code           381109 non-null  float64\n",
      " 5   Previously_Insured    381109 non-null  int64  \n",
      " 6   Vehicle_Age           381109 non-null  object \n",
      " 7   Vehicle_Damage        381109 non-null  object \n",
      " 8   Annual_Premium        381109 non-null  float64\n",
      " 9   Policy_Sales_Channel  381109 non-null  float64\n",
      " 10  Vintage               381109 non-null  int64  \n",
      " 11  Response              381109 non-null  int64  \n",
      "dtypes: float64(3), int64(6), object(3)\n",
      "memory usage: 34.9+ MB\n",
      "None\n"
     ]
    }
   ],
   "source": [
    "#Import the dataset, check the number of rows and columns of the dataset, and inspect the dataset\n",
    "vech_ins = pd.read_csv(\"D:/datacamp/Python/Linear Classifiers in Python/train.csv\")\n",
    "print(vech_ins.shape)\n",
    "print(vech_ins.info())"
   ]
  },
  {
   "cell_type": "code",
   "execution_count": 3,
   "metadata": {},
   "outputs": [
    {
     "name": "stdout",
     "output_type": "stream",
     "text": [
      "<class 'pandas.core.frame.DataFrame'>\n",
      "Int64Index: 381109 entries, 1 to 381109\n",
      "Data columns (total 11 columns):\n",
      " #   Column                Non-Null Count   Dtype  \n",
      "---  ------                --------------   -----  \n",
      " 0   Gender                381109 non-null  object \n",
      " 1   Age                   381109 non-null  int64  \n",
      " 2   Driving_License       381109 non-null  int64  \n",
      " 3   Region_Code           381109 non-null  float64\n",
      " 4   Previously_Insured    381109 non-null  int64  \n",
      " 5   Vehicle_Age           381109 non-null  object \n",
      " 6   Vehicle_Damage        381109 non-null  object \n",
      " 7   Annual_Premium        381109 non-null  float64\n",
      " 8   Policy_Sales_Channel  381109 non-null  float64\n",
      " 9   Vintage               381109 non-null  int64  \n",
      " 10  Response              381109 non-null  int64  \n",
      "dtypes: float64(3), int64(5), object(3)\n",
      "memory usage: 34.9+ MB\n",
      "None\n"
     ]
    }
   ],
   "source": [
    "#Here are the descriptions of the columns on the dataset\n",
    "#1. id - unique ID number of customer\n",
    "#2. Gender - Gender of customer \n",
    "#3. Age - Age of customer\n",
    "#4. Driving_license - 0 : customer does not have driving license, 1 : customer does has driving license\n",
    "#5. Region_code - unique code for the region of customer\n",
    "#6. Previously_Insured - 0 : customer does not have vehicle insurance, 1 : customer has vehicle insurance\n",
    "#7. Vehicle_Age - Age of customer's vehicle\n",
    "#8. Vehicle_Damage - 0 : customer didn't get his/her vehicle damaged, 1 : customer got his/her vehicle damaged\n",
    "#9. Annual_Premium - the amount customer has to pay as premium in the year\n",
    "#10. Policy_Sales_Channel - Anonymized Code for the channel of outreaching to the customer\n",
    "#11. Vintage - number of days customer has been associated with company\n",
    "#12. Response - 0 : customer is not interested, 1 : customer is interested\n",
    "\n",
    "#Set the id column as the index of the dataset\n",
    "vech_ins.index = vech_ins[\"id\"]\n",
    "vech_ins = vech_ins.drop(\"id\", axis=1)\n",
    "print(vech_ins.info())"
   ]
  },
  {
   "cell_type": "code",
   "execution_count": 4,
   "metadata": {},
   "outputs": [
    {
     "name": "stdout",
     "output_type": "stream",
     "text": [
      "                 Age  Driving_License    Region_Code  Previously_Insured  \\\n",
      "count  381109.000000    381109.000000  381109.000000       381109.000000   \n",
      "mean       38.822584         0.997869      26.388807            0.458210   \n",
      "std        15.511611         0.046110      13.229888            0.498251   \n",
      "min        20.000000         0.000000       0.000000            0.000000   \n",
      "25%        25.000000         1.000000      15.000000            0.000000   \n",
      "50%        36.000000         1.000000      28.000000            0.000000   \n",
      "75%        49.000000         1.000000      35.000000            1.000000   \n",
      "max        85.000000         1.000000      52.000000            1.000000   \n",
      "\n",
      "       Annual_Premium  Policy_Sales_Channel        Vintage       Response  \n",
      "count   381109.000000         381109.000000  381109.000000  381109.000000  \n",
      "mean     30564.389581            112.034295     154.347397       0.122563  \n",
      "std      17213.155057             54.203995      83.671304       0.327936  \n",
      "min       2630.000000              1.000000      10.000000       0.000000  \n",
      "25%      24405.000000             29.000000      82.000000       0.000000  \n",
      "50%      31669.000000            133.000000     154.000000       0.000000  \n",
      "75%      39400.000000            152.000000     227.000000       0.000000  \n",
      "max     540165.000000            163.000000     299.000000       1.000000  \n"
     ]
    }
   ],
   "source": [
    "print(vech_ins.describe())"
   ]
  },
  {
   "cell_type": "code",
   "execution_count": 5,
   "metadata": {},
   "outputs": [
    {
     "name": "stdout",
     "output_type": "stream",
     "text": [
      "0    334399\n",
      "1     46710\n",
      "Name: Response, dtype: int64\n"
     ]
    }
   ],
   "source": [
    "#EDA\n",
    "#Take a look at the number of customers which are interested in vehicle insurance and which are not interested\n",
    "print(vech_ins[\"Response\"].value_counts(sort=True))"
   ]
  },
  {
   "cell_type": "code",
   "execution_count": 6,
   "metadata": {},
   "outputs": [
    {
     "name": "stdout",
     "output_type": "stream",
     "text": [
      "0    0.877437\n",
      "1    0.122563\n",
      "Name: Response, dtype: float64\n"
     ]
    }
   ],
   "source": [
    "#Take a look at the proportion of customers which are interested in vehicle insurance and which are not interested\n",
    "print(vech_ins[\"Response\"].value_counts(sort=True)/len(vech_ins))"
   ]
  },
  {
   "cell_type": "code",
   "execution_count": 7,
   "metadata": {},
   "outputs": [
    {
     "data": {
      "image/png": "[encoded data removed]",
      "text/plain": [
       "<Figure size 432x288 with 1 Axes>"
      ]
     },
     "metadata": {
      "needs_background": "light"
     },
     "output_type": "display_data"
    }
   ],
   "source": [
    "#Gender\n",
    "vech_ins[\"Gender\"].value_counts(sort=True).plot(kind=\"bar\")\n",
    "plt.show()"
   ]
  },
  {
   "cell_type": "code",
   "execution_count": 8,
   "metadata": {},
   "outputs": [
    {
     "name": "stdout",
     "output_type": "stream",
     "text": [
      "Response         0         1\n",
      "Gender                      \n",
      "Female    0.411523  0.047716\n",
      "Male      0.465914  0.074847\n"
     ]
    }
   ],
   "source": [
    "print(pd.crosstab(vech_ins['Gender'],vech_ins['Response'])/len(vech_ins))"
   ]
  },
  {
   "cell_type": "code",
   "execution_count": 9,
   "metadata": {},
   "outputs": [
    {
     "data": {
      "image/png": "[encoded data removed]",
      "text/plain": [
       "<Figure size 432x288 with 1 Axes>"
      ]
     },
     "metadata": {
      "needs_background": "light"
     },
     "output_type": "display_data"
    }
   ],
   "source": [
    "#Age\n",
    "vech_ins[\"Age\"].hist(bins=100)\n",
    "plt.show()"
   ]
  },
  {
   "cell_type": "code",
   "execution_count": 10,
   "metadata": {},
   "outputs": [
    {
     "name": "stdout",
     "output_type": "stream",
     "text": [
      "240.6100763765522\n"
     ]
    }
   ],
   "source": [
    "#Print the variance of Age column\n",
    "print(vech_ins[\"Age\"].var())"
   ]
  },
  {
   "cell_type": "code",
   "execution_count": 11,
   "metadata": {},
   "outputs": [
    {
     "name": "stdout",
     "output_type": "stream",
     "text": [
      "1    380297\n",
      "0       812\n",
      "Name: Driving_License, dtype: int64\n"
     ]
    }
   ],
   "source": [
    "#Driving License\n",
    "print(vech_ins[\"Driving_License\"].value_counts(sort = True))"
   ]
  },
  {
   "cell_type": "code",
   "execution_count": 12,
   "metadata": {},
   "outputs": [
    {
     "name": "stdout",
     "output_type": "stream",
     "text": [
      "Response                0         1\n",
      "Driving_License                    \n",
      "0                0.002023  0.000108\n",
      "1                0.875414  0.122456\n"
     ]
    }
   ],
   "source": [
    "print(pd.crosstab(vech_ins[\"Driving_License\"],vech_ins[\"Response\"])/len(vech_ins))"
   ]
  },
  {
   "cell_type": "code",
   "execution_count": 27,
   "metadata": {},
   "outputs": [
    {
     "data": {
      "image/png": "[encoded data removed]",
      "text/plain": [
       "<Figure size 432x288 with 1 Axes>"
      ]
     },
     "metadata": {
      "needs_background": "light"
     },
     "output_type": "display_data"
    }
   ],
   "source": [
    "#Region Code\n",
    "vech_ins[\"Region_Code\"].value_counts(sort=True)[:20].plot(kind=\"bar\")\n",
    "plt.show()"
   ]
  },
  {
   "cell_type": "code",
   "execution_count": 14,
   "metadata": {},
   "outputs": [
    {
     "data": {
      "image/png": "[encoded data removed]",
      "text/plain": [
       "<Figure size 432x288 with 1 Axes>"
      ]
     },
     "metadata": {
      "needs_background": "light"
     },
     "output_type": "display_data"
    }
   ],
   "source": [
    "#Previously Insured\n",
    "vech_ins[\"Previously_Insured\"].value_counts(sort=True).plot(kind=\"bar\")\n",
    "plt.show()"
   ]
  },
  {
   "cell_type": "code",
   "execution_count": 15,
   "metadata": {},
   "outputs": [
    {
     "name": "stdout",
     "output_type": "stream",
     "text": [
      "Response                   0         1\n",
      "Previously_Insured                    \n",
      "0                   0.419641  0.122149\n",
      "1                   0.457796  0.000415\n"
     ]
    }
   ],
   "source": [
    "print(pd.crosstab(vech_ins[\"Previously_Insured\"],vech_ins[\"Response\"])/len(vech_ins))"
   ]
  },
  {
   "cell_type": "code",
   "execution_count": 16,
   "metadata": {},
   "outputs": [
    {
     "data": {
      "image/png": "[encoded data removed]",
      "text/plain": [
       "<Figure size 432x288 with 1 Axes>"
      ]
     },
     "metadata": {
      "needs_background": "light"
     },
     "output_type": "display_data"
    }
   ],
   "source": [
    "#Vehicle Age\n",
    "vech_ins[\"Vehicle_Age\"].value_counts(sort=True).plot(kind=\"bar\")\n",
    "plt.show()"
   ]
  },
  {
   "cell_type": "code",
   "execution_count": 17,
   "metadata": {},
   "outputs": [
    {
     "name": "stdout",
     "output_type": "stream",
     "text": [
      "Response            0         1\n",
      "Vehicle_Age                    \n",
      "1-2 Year     0.434285  0.091328\n",
      "< 1 Year     0.413488  0.018897\n",
      "> 2 Years    0.029663  0.012338\n"
     ]
    }
   ],
   "source": [
    "print(pd.crosstab(vech_ins[\"Vehicle_Age\"],vech_ins[\"Response\"])/len(vech_ins))"
   ]
  },
  {
   "cell_type": "code",
   "execution_count": 18,
   "metadata": {},
   "outputs": [
    {
     "data": {
      "image/png": "[encoded data removed]",
      "text/plain": [
       "<Figure size 432x288 with 1 Axes>"
      ]
     },
     "metadata": {
      "needs_background": "light"
     },
     "output_type": "display_data"
    }
   ],
   "source": [
    "#Vehicle Damage\n",
    "vech_ins[\"Vehicle_Damage\"].value_counts(sort=True).plot(kind=\"bar\")\n",
    "plt.show()"
   ]
  },
  {
   "cell_type": "code",
   "execution_count": 19,
   "metadata": {},
   "outputs": [
    {
     "name": "stdout",
     "output_type": "stream",
     "text": [
      "Response                   0         1\n",
      "Previously_Insured                    \n",
      "0                   0.419641  0.122149\n",
      "1                   0.457796  0.000415\n",
      "None\n"
     ]
    }
   ],
   "source": [
    "print(print(pd.crosstab(vech_ins[\"Previously_Insured\"],vech_ins[\"Response\"])/len(vech_ins)))"
   ]
  },
  {
   "cell_type": "code",
   "execution_count": 20,
   "metadata": {},
   "outputs": [
    {
     "data": {
      "image/png": "[encoded data removed]",
      "text/plain": [
       "<Figure size 432x288 with 1 Axes>"
      ]
     },
     "metadata": {
      "needs_background": "light"
     },
     "output_type": "display_data"
    }
   ],
   "source": [
    "#Annual Premium\n",
    "vech_ins[\"Annual_Premium\"].hist(bins=25)\n",
    "plt.show()"
   ]
  },
  {
   "cell_type": "code",
   "execution_count": 21,
   "metadata": {},
   "outputs": [
    {
     "name": "stdout",
     "output_type": "stream",
     "text": [
      "296292707.01519835\n"
     ]
    }
   ],
   "source": [
    "#Print the variance of Annual_Premium column\n",
    "print(vech_ins[\"Annual_Premium\"].var())"
   ]
  },
  {
   "cell_type": "code",
   "execution_count": 25,
   "metadata": {},
   "outputs": [
    {
     "data": {
      "image/png": "[encoded data removed]",
      "text/plain": [
       "<Figure size 432x288 with 1 Axes>"
      ]
     },
     "metadata": {
      "needs_background": "light"
     },
     "output_type": "display_data"
    }
   ],
   "source": [
    "#Policy Sales Channel\n",
    "vech_ins[\"Policy_Sales_Channel\"].value_counts(sort=True)[:15].plot(kind=\"bar\")\n",
    "plt.show()"
   ]
  },
  {
   "cell_type": "code",
   "execution_count": 28,
   "metadata": {},
   "outputs": [
    {
     "data": {
      "image/png": "[encoded data removed]",
      "text/plain": [
       "<Figure size 432x288 with 1 Axes>"
      ]
     },
     "metadata": {
      "needs_background": "light"
     },
     "output_type": "display_data"
    }
   ],
   "source": [
    "#Vintage\n",
    "vech_ins[\"Vintage\"].hist(bins=100)\n",
    "plt.show()"
   ]
  },
  {
   "cell_type": "code",
   "execution_count": 29,
   "metadata": {},
   "outputs": [
    {
     "name": "stdout",
     "output_type": "stream",
     "text": [
      "7000.887050572313\n"
     ]
    }
   ],
   "source": [
    "#Print the variance of Vintage column\n",
    "print(vech_ins[\"Vintage\"].var())"
   ]
  },
  {
   "cell_type": "code",
   "execution_count": 30,
   "metadata": {},
   "outputs": [
    {
     "name": "stdout",
     "output_type": "stream",
     "text": [
      "        Gender  Age  Driving_License  Region_Code  Previously_Insured  \\\n",
      "id                                                                      \n",
      "381105       1   74                1         26.0                   1   \n",
      "381106       1   30                1         37.0                   1   \n",
      "381107       1   21                1         30.0                   1   \n",
      "381108       0   68                1         14.0                   0   \n",
      "381109       1   46                1         29.0                   0   \n",
      "\n",
      "        Vehicle_Age  Vehicle_Damage  Annual_Premium  Policy_Sales_Channel  \\\n",
      "id                                                                          \n",
      "381105            0               0         30170.0                  26.0   \n",
      "381106            1               0         40016.0                 152.0   \n",
      "381107            1               0         35118.0                 160.0   \n",
      "381108            2               1         44617.0                 124.0   \n",
      "381109            0               0         41777.0                  26.0   \n",
      "\n",
      "        Vintage  Response  \n",
      "id                         \n",
      "381105       88         0  \n",
      "381106      131         0  \n",
      "381107      161         0  \n",
      "381108       74         0  \n",
      "381109      237         0  \n",
      "<class 'pandas.core.frame.DataFrame'>\n",
      "Int64Index: 381109 entries, 1 to 381109\n",
      "Data columns (total 11 columns):\n",
      " #   Column                Non-Null Count   Dtype  \n",
      "---  ------                --------------   -----  \n",
      " 0   Gender                381109 non-null  int32  \n",
      " 1   Age                   381109 non-null  int64  \n",
      " 2   Driving_License       381109 non-null  int64  \n",
      " 3   Region_Code           381109 non-null  float64\n",
      " 4   Previously_Insured    381109 non-null  int64  \n",
      " 5   Vehicle_Age           381109 non-null  int32  \n",
      " 6   Vehicle_Damage        381109 non-null  int32  \n",
      " 7   Annual_Premium        381109 non-null  float64\n",
      " 8   Policy_Sales_Channel  381109 non-null  float64\n",
      " 9   Vintage               381109 non-null  int64  \n",
      " 10  Response              381109 non-null  int64  \n",
      "dtypes: float64(3), int32(3), int64(5)\n",
      "memory usage: 30.5 MB\n",
      "None\n"
     ]
    }
   ],
   "source": [
    "#We will use label encoder to transform the predictor variables with categorical data on the dataset,\n",
    "#except for Driving_License and Previously_Insured column, which has been encoded by default\n",
    "#Create the label encoder\n",
    "le = LabelEncoder()\n",
    "\n",
    "#For Gender column, we will set 0 for \"Female\" and 1 for \"Male\"\n",
    "vech_ins[\"Gender\"] = le.fit_transform(vech_ins[\"Gender\"])\n",
    "\n",
    "#For Vehicle_Age column, we will set 0 for \"1-2 Year\", 1 for \"<1 Year\", and 2 for \">2 Year\"\n",
    "vech_ins[\"Vehicle_Age\"] = le.fit_transform(vech_ins[\"Vehicle_Age\"])\n",
    "\n",
    "#For Vehicle_Damage column, we will set 0 for \"No\" and 1 for \"Yes\"\n",
    "vech_ins[\"Vehicle_Damage\"] = le.fit_transform(vech_ins[\"Vehicle_Damage\"])\n",
    "\n",
    "print(vech_ins.tail())\n",
    "#Inspect the dataset again\n",
    "print(vech_ins.info())"
   ]
  },
  {
   "cell_type": "code",
   "execution_count": 31,
   "metadata": {},
   "outputs": [
    {
     "name": "stdout",
     "output_type": "stream",
     "text": [
      "    Gender       Age  Driving_License  Region_Code  Previously_Insured  \\\n",
      "id                                                                       \n",
      "1        1  0.333777                1         28.0                   0   \n",
      "2        1  2.396751                1          3.0                   0   \n",
      "3        1  0.527181                1         28.0                   0   \n",
      "4        1 -1.148985                1         11.0                   1   \n",
      "5        0 -0.633242                1         41.0                   1   \n",
      "\n",
      "    Vehicle_Age  Vehicle_Damage  Annual_Premium  Policy_Sales_Channel  \\\n",
      "id                                                                      \n",
      "1             2               1        0.574539                  26.0   \n",
      "2             0               0        0.172636                  26.0   \n",
      "3             2               1        0.449053                  26.0   \n",
      "4             1               0       -0.113018                 152.0   \n",
      "5             1               0       -0.178259                 152.0   \n",
      "\n",
      "     Vintage  Response  \n",
      "id                      \n",
      "1   0.748795         1  \n",
      "2   0.342443         0  \n",
      "3  -1.521998         1  \n",
      "4   0.581474         0  \n",
      "5  -1.378580         0  \n"
     ]
    }
   ],
   "source": [
    "#Previously, we have seen that Age, Annual_Premium and Vintage columns had large variances\n",
    "#We need to scale the data in those columns\n",
    "ss = StandardScaler()\n",
    "vech_ins[[\"Age\", \"Annual_Premium\", \"Vintage\"]] = ss.fit_transform(vech_ins[[\"Age\", \"Annual_Premium\", \"Vintage\"]])\n",
    "print(vech_ins.head())"
   ]
  },
  {
   "cell_type": "code",
   "execution_count": 32,
   "metadata": {},
   "outputs": [
    {
     "name": "stdout",
     "output_type": "stream",
     "text": [
      "    Gender  Age  Driving_License  Region_Code  Previously_Insured  \\\n",
      "id                                                                  \n",
      "1        1    0                1           28                   0   \n",
      "2        1    2                1            3                   0   \n",
      "3        1    0                1           28                   0   \n",
      "4        1   -1                1           11                   1   \n",
      "5        0    0                1           41                   1   \n",
      "\n",
      "    Vehicle_Age  Vehicle_Damage  Annual_Premium  Policy_Sales_Channel  \\\n",
      "id                                                                      \n",
      "1             2               1               0                    26   \n",
      "2             0               0               0                    26   \n",
      "3             2               1               0                    26   \n",
      "4             1               0               0                   152   \n",
      "5             1               0               0                   152   \n",
      "\n",
      "    Vintage  Response  \n",
      "id                     \n",
      "1         0         1  \n",
      "2         0         0  \n",
      "3        -1         1  \n",
      "4         0         0  \n",
      "5        -1         0  \n"
     ]
    }
   ],
   "source": [
    "#As we've seen before, those columns still have different datatypes\n",
    "#Transform all of the columns into int32 type\n",
    "for col in vech_ins.columns:\n",
    "    vech_ins[col] = vech_ins[col].astype(np.int32)\n",
    "print(vech_ins.head())"
   ]
  },
  {
   "cell_type": "code",
   "execution_count": 33,
   "metadata": {},
   "outputs": [],
   "source": [
    "#We are going to apply machine learning models to make predictions\n",
    "#Set a variable to store the predictor variables and another variable to store the target variable\n",
    "X = vech_ins.drop(\"Response\", axis=1)\n",
    "y = vech_ins[\"Response\"]"
   ]
  },
  {
   "cell_type": "code",
   "execution_count": 34,
   "metadata": {},
   "outputs": [],
   "source": [
    "#Split the dataset into 75% train set and 25% test set\n",
    "X_train, X_test, y_train, y_test = train_test_split(X,y,test_size = 0.25, random_state = 42)"
   ]
  },
  {
   "cell_type": "code",
   "execution_count": 35,
   "metadata": {},
   "outputs": [],
   "source": [
    "#Create a function to show accuracy score of the machine learning models\n",
    "def model_accuracy(model):\n",
    "    classifier = model\n",
    "    y_pred_test = classifier.fit(X_train,y_train).predict(X_test)\n",
    "    acc_test = accuracy_score(y_test, y_pred_test)\n",
    "    return([acc_test])"
   ]
  },
  {
   "cell_type": "code",
   "execution_count": 36,
   "metadata": {},
   "outputs": [],
   "source": [
    "#Apply the following models for the predictions to the datasets :\n",
    "nb = GaussianNB() #Naive Bayes\n",
    "knn = KNeighborsClassifier() #K-Nearest Neighbor\n",
    "lr = LogisticRegression() #Logistic Regression\n",
    "dt = DecisionTreeClassifier() #Decision Tree\n",
    "rf = RandomForestClassifier() #Random Forest\n",
    "gbm = GradientBoostingClassifier() #Gradient Boosting"
   ]
  },
  {
   "cell_type": "code",
   "execution_count": 37,
   "metadata": {},
   "outputs": [
    {
     "name": "stderr",
     "output_type": "stream",
     "text": [
      "C:\\Users\\ASUS\\anaconda3\\lib\\site-packages\\sklearn\\linear_model\\_logistic.py:940: ConvergenceWarning: lbfgs failed to converge (status=1):\n",
      "STOP: TOTAL NO. of ITERATIONS REACHED LIMIT.\n",
      "\n",
      "Increase the number of iterations (max_iter) or scale the data as shown in:\n",
      "    https://scikit-learn.org/stable/modules/preprocessing.html\n",
      "Please also refer to the documentation for alternative solver options:\n",
      "    https://scikit-learn.org/stable/modules/linear_model.html#logistic-regression\n",
      "  extra_warning_msg=_LOGISTIC_SOLVER_CONVERGENCE_MSG)\n"
     ]
    },
    {
     "name": "stdout",
     "output_type": "stream",
     "text": [
      "                 Model  Test Accuracy\n",
      "0          Naive Bayes       0.641145\n",
      "1   K-Nearest Neighbor       0.856189\n",
      "2  Logistic Regression       0.875596\n",
      "3        Decision Tree       0.867273\n",
      "4        Random Forest       0.868091\n",
      "5    Gradient Boosting       0.876509\n"
     ]
    },
    {
     "data": {
      "image/png": "[encoded data removed]",
      "text/plain": [
       "<Figure size 432x288 with 1 Axes>"
      ]
     },
     "metadata": {
      "needs_background": "light"
     },
     "output_type": "display_data"
    }
   ],
   "source": [
    "#Create a dictionary contains the model names and their respective created models\n",
    "model_choice = {'Naive Bayes':nb, 'K-Nearest Neighbor':knn,'Logistic Regression':lr, 'Decision Tree':dt, 'Random Forest':rf\n",
    "               , 'Gradient Boosting':gbm}\n",
    "#Create empty lists for the model names and their accuracy\n",
    "model_name = []\n",
    "accuracy = []\n",
    "\n",
    "#Append the empty lists with the model names and their accuracy, respectively\n",
    "for m in model_choice.keys():\n",
    "    model_name.append(m)\n",
    "for model in model_choice.values():\n",
    "    accuracy.append(model_accuracy(model))\n",
    "\n",
    "#Create a dataframe of the model names and their accuracy\n",
    "model_df = pd.DataFrame(model_name, columns = ['Model'])\n",
    "accuracy_df = pd.DataFrame(accuracy, columns = ['Test Accuracy'])\n",
    "model_accuracy_df = pd.concat([model_df, accuracy_df],axis=1)\n",
    "print(model_accuracy_df)\n",
    "\n",
    "#Show the accuracy of the models in bar graph to check out which machine learning model had the highest accuracy\n",
    "plt.barh(model_accuracy_df['Model'], model_accuracy_df['Test Accuracy'])\n",
    "plt.show()"
   ]
  },
  {
   "cell_type": "code",
   "execution_count": 38,
   "metadata": {},
   "outputs": [
    {
     "name": "stderr",
     "output_type": "stream",
     "text": [
      "C:\\Users\\ASUS\\anaconda3\\lib\\site-packages\\sklearn\\linear_model\\_logistic.py:940: ConvergenceWarning: lbfgs failed to converge (status=1):\n",
      "STOP: TOTAL NO. of ITERATIONS REACHED LIMIT.\n",
      "\n",
      "Increase the number of iterations (max_iter) or scale the data as shown in:\n",
      "    https://scikit-learn.org/stable/modules/preprocessing.html\n",
      "Please also refer to the documentation for alternative solver options:\n",
      "    https://scikit-learn.org/stable/modules/linear_model.html#logistic-regression\n",
      "  extra_warning_msg=_LOGISTIC_SOLVER_CONVERGENCE_MSG)\n"
     ]
    },
    {
     "data": {
      "image/png": "[encoded data removed]",
      "text/plain": [
       "<Figure size 432x288 with 1 Axes>"
      ]
     },
     "metadata": {
      "needs_background": "light"
     },
     "output_type": "display_data"
    },
    {
     "name": "stdout",
     "output_type": "stream",
     "text": [
      "AUC score of Logistic Regression : 0.820\n",
      "AUC score of Gradient Boosting : 0.854\n"
     ]
    }
   ],
   "source": [
    "#From the graph, we can see that Gradient Boosting Logistic Regression are the models with the highest accuracy\n",
    "#and had the almost same accuracy as well\n",
    "#To determine which is the best among the two models, create ROC curve and check the AUC score for the two models\n",
    "\n",
    "#ROC Curve\n",
    "#Create variables which return probability of all predictions in target variable using the two models\n",
    "y_prob_lr = lr.fit(X_train, y_train).predict_proba(X_test)[:,1]\n",
    "y_prob_gbm = gbm.fit(X_train, y_train).predict_proba(X_test)[:,1]\n",
    "\n",
    "#Set the false positive rate, true positive rate, and threshold\n",
    "fpr_lr, tpr_lr, thresholds_lr = roc_curve(y_test, y_prob_lr)\n",
    "fpr_gbm, tpr_gbm, thresholds_gbm = roc_curve(y_test, y_prob_gbm)\n",
    "\n",
    "#Plot the ROC curve\n",
    "plt.plot([0,1],[0,1],'k--')\n",
    "plt.plot(fpr_lr, tpr_lr, label = 'Logistic Regression')\n",
    "plt.plot(fpr_gbm, tpr_gbm, label = 'Gradient Boosting')\n",
    "plt.xlabel('False Positive Rate')\n",
    "plt.ylabel('True Positive Rate')\n",
    "plt.legend()\n",
    "plt.show()\n",
    "\n",
    "#AUC Score\n",
    "#Show the AUC score of the two models\n",
    "print('AUC score of Logistic Regression : {:.3f}'.format(roc_auc_score(y_test, y_prob_lr)))\n",
    "print('AUC score of Gradient Boosting : {:.3f}'.format(roc_auc_score(y_test, y_prob_gbm)))"
   ]
  },
  {
   "cell_type": "code",
   "execution_count": 39,
   "metadata": {},
   "outputs": [],
   "source": [
    "#Now, let's define a function to run Grid Search Cross Validation\n",
    "def gscv(model,grid):\n",
    "    model_gs = GridSearchCV(estimator = model, param_grid = grid, cv=5)\n",
    "    y_pred = model_gs.fit(X_train, y_train).predict(X_test)\n",
    "    acc_score = accuracy_score(y_test, y_pred)\n",
    "    return(model_gs.best_params_,model_gs.best_score_)"
   ]
  },
  {
   "cell_type": "code",
   "execution_count": 40,
   "metadata": {},
   "outputs": [
    {
     "name": "stdout",
     "output_type": "stream",
     "text": [
      "({'learning_rate': 0.01}, 0.8777424422063707)\n"
     ]
    }
   ],
   "source": [
    "#Let's see how Grid Search Cross Validation improve the accuracy of GBM model\n",
    "gbm_grid = {'learning_rate':[0.01,0.05]}\n",
    "print(gscv(gbm, gbm_grid))"
   ]
  },
  {
   "cell_type": "code",
   "execution_count": 41,
   "metadata": {},
   "outputs": [
    {
     "name": "stdout",
     "output_type": "stream",
     "text": [
      "[[83513     0]\n",
      " [11765     0]]\n"
     ]
    }
   ],
   "source": [
    "#There's only a slight improvement of the accuracy by applying Grid Search Cross Validation \n",
    "#Create confusion matrix to check out how well the model predict each response\n",
    "gbm_gscv = GradientBoostingClassifier(learning_rate = 0.01)\n",
    "y_pred_test = gbm_gscv.fit(X_train, y_train).predict(X_test)\n",
    "print(confusion_matrix(y_test, y_pred_test))"
   ]
  },
  {
   "cell_type": "code",
   "execution_count": 42,
   "metadata": {},
   "outputs": [
    {
     "name": "stdout",
     "output_type": "stream",
     "text": [
      "(127037, 10)\n",
      "<class 'pandas.core.frame.DataFrame'>\n",
      "Int64Index: 127037 entries, 381110 to 508146\n",
      "Data columns (total 10 columns):\n",
      " #   Column                Non-Null Count   Dtype  \n",
      "---  ------                --------------   -----  \n",
      " 0   Gender                127037 non-null  object \n",
      " 1   Age                   127037 non-null  int64  \n",
      " 2   Driving_License       127037 non-null  int64  \n",
      " 3   Region_Code           127037 non-null  float64\n",
      " 4   Previously_Insured    127037 non-null  int64  \n",
      " 5   Vehicle_Age           127037 non-null  object \n",
      " 6   Vehicle_Damage        127037 non-null  object \n",
      " 7   Annual_Premium        127037 non-null  float64\n",
      " 8   Policy_Sales_Channel  127037 non-null  float64\n",
      " 9   Vintage               127037 non-null  int64  \n",
      "dtypes: float64(3), int64(4), object(3)\n",
      "memory usage: 10.7+ MB\n",
      "None\n"
     ]
    }
   ],
   "source": [
    "#Well, the model did an exceptional job in predicting which customers not interested in vehicle insurance\n",
    "#Bu unfortunately, it didn't do a good job in predicting which customers interested in vehicle insurance\n",
    "#Based on the result on confusion matrix,\n",
    "#the model actually predicts that selling vehicle insurance to health insurance customer is not a good idea.\n",
    "\n",
    "#To confirm this, we are going to see the probability of customers interested in vehicle insurance on the following set\n",
    "test = pd.read_csv(\"D:/datacamp/Python/Linear Classifiers in Python/test.csv\")\n",
    "test.index = test[\"id\"]\n",
    "test = test.drop(\"id\", axis=1)\n",
    "print(test.shape)\n",
    "print(test.info())"
   ]
  },
  {
   "cell_type": "code",
   "execution_count": 51,
   "metadata": {},
   "outputs": [
    {
     "name": "stdout",
     "output_type": "stream",
     "text": [
      "        Gender       Age  Driving_License  Region_Code  Previously_Insured  \\\n",
      "id                                                                           \n",
      "381110       1 -0.057439                1           -1                   1   \n",
      "381111       1 -0.057439                1            0                   0   \n",
      "381112       1 -0.057439                1            0                   0   \n",
      "381113       1 -0.057439                1            0                   1   \n",
      "381114       1 -0.057439                1            0                   1   \n",
      "\n",
      "        Vehicle_Age  Vehicle_Damage  Annual_Premium  Policy_Sales_Channel  \\\n",
      "id                                                                          \n",
      "381110            1               0        0.038640                     0   \n",
      "381111            0               1        0.038640                    -1   \n",
      "381112            0               1        0.038640                     0   \n",
      "381113            1               1        0.038640                     0   \n",
      "381114            1               0        1.528831                     0   \n",
      "\n",
      "         Vintage  \n",
      "id                \n",
      "381110 -1.539865  \n",
      "381111 -0.003097  \n",
      "381112 -0.003097  \n",
      "381113 -0.003097  \n",
      "381114  1.533671  \n"
     ]
    }
   ],
   "source": [
    "#Do the feature engineering of the columns in the same way of the previous data\n",
    "test_new = test\n",
    "test_new[\"Gender\"] = le.fit_transform(test_new[\"Gender\"])\n",
    "test_new[\"Vehicle_Age\"] = le.fit_transform(test_new[\"Vehicle_Age\"])\n",
    "test_new[\"Vehicle_Damage\"] = le.fit_transform(test_new[\"Vehicle_Damage\"])\n",
    "test_new[[\"Age\", \"Annual_Premium\", \"Vintage\"]] = ss.fit_transform(\n",
    "    test_new[[\"Age\", \"Annual_Premium\", \"Vintage\"]])\n",
    "print(test_new.head())"
   ]
  },
  {
   "cell_type": "code",
   "execution_count": 52,
   "metadata": {},
   "outputs": [
    {
     "name": "stdout",
     "output_type": "stream",
     "text": [
      "        Gender  Age  Driving_License  Region_Code  Previously_Insured  \\\n",
      "id                                                                      \n",
      "381110       1    0                1           -1                   1   \n",
      "381111       1    0                1            0                   0   \n",
      "381112       1    0                1            0                   0   \n",
      "381113       1    0                1            0                   1   \n",
      "381114       1    0                1            0                   1   \n",
      "\n",
      "        Vehicle_Age  Vehicle_Damage  Annual_Premium  Policy_Sales_Channel  \\\n",
      "id                                                                          \n",
      "381110            1               0               0                     0   \n",
      "381111            0               1               0                    -1   \n",
      "381112            0               1               0                     0   \n",
      "381113            1               1               0                     0   \n",
      "381114            1               0               1                     0   \n",
      "\n",
      "        Vintage  \n",
      "id               \n",
      "381110       -1  \n",
      "381111        0  \n",
      "381112        0  \n",
      "381113        0  \n",
      "381114        1  \n"
     ]
    }
   ],
   "source": [
    "#Convert all of the columns into int32 type\n",
    "for col in test_new.columns:\n",
    "    test_new[col] = test_new[col].astype(np.int32)\n",
    "print(test_new.head())"
   ]
  },
  {
   "cell_type": "code",
   "execution_count": 53,
   "metadata": {},
   "outputs": [
    {
     "name": "stdout",
     "output_type": "stream",
     "text": [
      "Prob_Interested    0.230868\n",
      "dtype: float64\n"
     ]
    }
   ],
   "source": [
    "#Predict the probability of interested in vehicle insurance\n",
    "test_pred = gbm_gscv.predict_proba(test_new)[:,1]\n",
    "test_pred = pd.DataFrame(test_pred,columns=['Prob_Interested'])\n",
    "print(test_pred.max())"
   ]
  },
  {
   "cell_type": "code",
   "execution_count": 49,
   "metadata": {},
   "outputs": [
    {
     "name": "stdout",
     "output_type": "stream",
     "text": [
      "Index(['id', 'Response'], dtype='object')\n"
     ]
    }
   ],
   "source": [
    "#The highest probability of interested in vehicle insurance was only around 0.23\n",
    "#It is confirmed that the company should not sell vehicle insurance\n",
    "#Set \n",
    "submission = pd.read_csv(\"D:/datacamp/Python/Linear Classifiers in Python/sample_submission.csv\")\n",
    "print(submission.columns)"
   ]
  },
  {
   "cell_type": "code",
   "execution_count": 50,
   "metadata": {},
   "outputs": [
    {
     "name": "stdout",
     "output_type": "stream",
     "text": [
      "       id  Prob_Interested\n",
      "0  381110         0.047899\n",
      "1  381111         0.230868\n",
      "2  381112         0.230868\n",
      "3  381113         0.080029\n",
      "4  381114         0.047899\n"
     ]
    }
   ],
   "source": [
    "submission = submission.drop(\"Response\", axis=1)\n",
    "result = pd.concat([submission, test_pred], axis=1)\n",
    "print(result.head())"
   ]
  },
  {
   "cell_type": "code",
   "execution_count": 54,
   "metadata": {},
   "outputs": [],
   "source": [
    "result.to_csv(r'D:/datacamp/Python/Linear Classifiers in Python/Insurance Cross Sell Prediction.csv', header = True)"
   ]
  },
  {
   "cell_type": "code",
   "execution_count": null,
   "metadata": {},
   "outputs": [],
   "source": []
  }
 ],
 "metadata": {
  "kernelspec": {
   "display_name": "Python 3",
   "language": "python",
   "name": "python3"
  },
  "language_info": {
   "codemirror_mode": {
    "name": "ipython",
    "version": 3
   },
   "file_extension": ".py",
   "mimetype": "text/x-python",
   "name": "python",
   "nbconvert_exporter": "python",
   "pygments_lexer": "ipython3",
   "version": "3.7.6"
  }
 },
 "nbformat": 4,
 "nbformat_minor": 4
}
